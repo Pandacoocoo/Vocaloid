{
 "cells": [
  {
   "cell_type": "code",
   "execution_count": 2,
   "id": "c9a3f47e",
   "metadata": {},
   "outputs": [],
   "source": [
    "# import json files\n",
    "\n",
    "import os, json\n",
    "import pandas as pd\n",
    "\n",
    "path = './video/'\n",
    "json_files = [json for json in os.listdir(path) if json.endswith('.jsonl')]\n"
   ]
  },
  {
   "cell_type": "code",
   "execution_count": 409,
   "id": "192f0647",
   "metadata": {},
   "outputs": [
    {
     "data": {
      "text/html": [
       "<div>\n",
       "<style scoped>\n",
       "    .dataframe tbody tr th:only-of-type {\n",
       "        vertical-align: middle;\n",
       "    }\n",
       "\n",
       "    .dataframe tbody tr th {\n",
       "        vertical-align: top;\n",
       "    }\n",
       "\n",
       "    .dataframe thead th {\n",
       "        text-align: right;\n",
       "    }\n",
       "</style>\n",
       "<table border=\"1\" class=\"dataframe\">\n",
       "  <thead>\n",
       "    <tr style=\"text-align: right;\">\n",
       "      <th></th>\n",
       "      <th>video_id</th>\n",
       "      <th>watch_num</th>\n",
       "      <th>comment_num</th>\n",
       "      <th>mylist_num</th>\n",
       "      <th>title</th>\n",
       "      <th>description</th>\n",
       "      <th>category</th>\n",
       "      <th>tags</th>\n",
       "      <th>upload_time</th>\n",
       "      <th>file_type</th>\n",
       "      <th>length</th>\n",
       "      <th>size_high</th>\n",
       "      <th>size_low</th>\n",
       "    </tr>\n",
       "  </thead>\n",
       "  <tbody>\n",
       "    <tr>\n",
       "      <th>0</th>\n",
       "      <td>sm1038650</td>\n",
       "      <td>6502</td>\n",
       "      <td>59</td>\n",
       "      <td>60</td>\n",
       "      <td>テレポーテーション－恋の未確認－ボーカロイドとmix</td>\n",
       "      <td>sm1021218 (VOCALOID2 MIKU ver)とsm1021296 原曲とを勝...</td>\n",
       "      <td>anime</td>\n",
       "      <td>VOCALOID VOCALOID2 アニメ ウシオオネエサン オッサンホイホイ 初音ミク 橋本潮</td>\n",
       "      <td>2007-09-11T18:02:46+09:00</td>\n",
       "      <td>flv</td>\n",
       "      <td>62</td>\n",
       "      <td>2355098</td>\n",
       "      <td>2333208</td>\n",
       "    </tr>\n",
       "    <tr>\n",
       "      <th>1</th>\n",
       "      <td>sm1083650</td>\n",
       "      <td>7086</td>\n",
       "      <td>156</td>\n",
       "      <td>15</td>\n",
       "      <td>初音ミクの間違った使用方法２・夏の思い出</td>\n",
       "      <td>やっぱ、虫の音もダメダメ。　mylist/1049849/2448478　　◆9/18記：し...</td>\n",
       "      <td>None</td>\n",
       "      <td>VOCALOID 『CTRL+N』推奨 コイツチョットダケウG ポンコツ歌姫 初音セミ 初音...</td>\n",
       "      <td>2007-09-18T00:41:49+09:00</td>\n",
       "      <td>flv</td>\n",
       "      <td>40</td>\n",
       "      <td>1489849</td>\n",
       "      <td>1460399</td>\n",
       "    </tr>\n",
       "    <tr>\n",
       "      <th>2</th>\n",
       "      <td>sm1243650</td>\n",
       "      <td>1256</td>\n",
       "      <td>97</td>\n",
       "      <td>7</td>\n",
       "      <td>初音ミクが古城の門を通りますよver0.1</td>\n",
       "      <td>練習がてら初投稿&lt;br /&gt;使用ソフト：初音ミク体験版、Domino 1.24、TiMidi...</td>\n",
       "      <td>None</td>\n",
       "      <td>VOCALOID VOCALOID校歌シリーズ 上田 上田高 再生数ガ急ニ伸ビル動画 初音ミ...</td>\n",
       "      <td>2007-10-10T00:48:53+09:00</td>\n",
       "      <td>flv</td>\n",
       "      <td>45</td>\n",
       "      <td>709529</td>\n",
       "      <td>563865</td>\n",
       "    </tr>\n",
       "    <tr>\n",
       "      <th>3</th>\n",
       "      <td>sm1333650</td>\n",
       "      <td>3461</td>\n",
       "      <td>109</td>\n",
       "      <td>12</td>\n",
       "      <td>みくまうた(2) 『ググっても仕方ない』 唄：熊音ミクス</td>\n",
       "      <td>ＰＣソフト「初音ミク」より。レッツゴォ吉から一言「昨日の敵は今日の友って古い言葉があるけど、...</td>\n",
       "      <td>entertainment</td>\n",
       "      <td>VOCALOID エンターテイメント クマウタ ミクハ末期シリーズ ミクマウタ 仕事ヲ選ベナ...</td>\n",
       "      <td>2007-10-21T21:41:52+09:00</td>\n",
       "      <td>flv</td>\n",
       "      <td>94</td>\n",
       "      <td>2827861</td>\n",
       "      <td>2289888</td>\n",
       "    </tr>\n",
       "    <tr>\n",
       "      <th>4</th>\n",
       "      <td>sm1458650</td>\n",
       "      <td>1678</td>\n",
       "      <td>43</td>\n",
       "      <td>15</td>\n",
       "      <td>ラムネ「ラムネ色のメロディ」を初音ミクが頑張ってみた</td>\n",
       "      <td>■前作sm1453197の修正版です。全パラメータをリセットして一から作り直しました。これで...</td>\n",
       "      <td>None</td>\n",
       "      <td>VOCALOID ネコネコソフト ラムネ 初音ミク 歌ワセテミタ</td>\n",
       "      <td>2007-11-05T20:42:46+09:00</td>\n",
       "      <td>flv</td>\n",
       "      <td>90</td>\n",
       "      <td>3493129</td>\n",
       "      <td>3410404</td>\n",
       "    </tr>\n",
       "    <tr>\n",
       "      <th>...</th>\n",
       "      <td>...</td>\n",
       "      <td>...</td>\n",
       "      <td>...</td>\n",
       "      <td>...</td>\n",
       "      <td>...</td>\n",
       "      <td>...</td>\n",
       "      <td>...</td>\n",
       "      <td>...</td>\n",
       "      <td>...</td>\n",
       "      <td>...</td>\n",
       "      <td>...</td>\n",
       "      <td>...</td>\n",
       "      <td>...</td>\n",
       "    </tr>\n",
       "    <tr>\n",
       "      <th>671941</th>\n",
       "      <td>sm39286133</td>\n",
       "      <td>79</td>\n",
       "      <td>3</td>\n",
       "      <td>3</td>\n",
       "      <td>【GUMI×巡音ルカ】音楽って楽しい【ツインボーカル】【オリジナル曲】</td>\n",
       "      <td>&lt;strong&gt;ツインボーカル&lt;/strong&gt;をやってみたくて、GUMIと巡音ルカでやって...</td>\n",
       "      <td>music_sound</td>\n",
       "      <td>GUMI GUMIオリジナル曲 VOCALOID新曲リンク ボカロオリジナル曲 ルカ&amp;AMP...</td>\n",
       "      <td>2021-09-04T16:58:02+09:00</td>\n",
       "      <td>mp4</td>\n",
       "      <td>277</td>\n",
       "      <td>1</td>\n",
       "      <td>1</td>\n",
       "    </tr>\n",
       "    <tr>\n",
       "      <th>671942</th>\n",
       "      <td>sm39316133</td>\n",
       "      <td>282</td>\n",
       "      <td>11</td>\n",
       "      <td>6</td>\n",
       "      <td>魔女とカンテラ / 巡音ルカ</td>\n",
       "      <td>夜の静寂に、熱と光を。</td>\n",
       "      <td>music_sound</td>\n",
       "      <td>VOCALOID VOCALOIDオリジナル曲 オ洒落ナルカウタ ルカオリジナル曲 夜ノウタ...</td>\n",
       "      <td>2021-09-11T23:01:02+09:00</td>\n",
       "      <td>mp4</td>\n",
       "      <td>232</td>\n",
       "      <td>1</td>\n",
       "      <td>1</td>\n",
       "    </tr>\n",
       "    <tr>\n",
       "      <th>671943</th>\n",
       "      <td>sm39321133</td>\n",
       "      <td>40</td>\n",
       "      <td>8</td>\n",
       "      <td>0</td>\n",
       "      <td>【トークロイド】星に願いを#5【ラジオ】</td>\n",
       "      <td>お手紙ぼしゅう→lm1grandprix@gmail.com</td>\n",
       "      <td>entertainment</td>\n",
       "      <td>VOCALOID トークロイド ボカロラジオ 蒼姫ラピス</td>\n",
       "      <td>2021-09-11T23:59:02+09:00</td>\n",
       "      <td>mp4</td>\n",
       "      <td>670</td>\n",
       "      <td>1</td>\n",
       "      <td>1</td>\n",
       "    </tr>\n",
       "    <tr>\n",
       "      <th>671944</th>\n",
       "      <td>sm39382133</td>\n",
       "      <td>1788</td>\n",
       "      <td>95</td>\n",
       "      <td>22</td>\n",
       "      <td>【Tda Teto &amp;amp; Luka Lace Dress】Promise</td>\n",
       "      <td>だんしゃくいも様、盗賊@つばきP様、Aih kob様&lt;br&gt;Cream pie様、大黒屋様、...</td>\n",
       "      <td>entertainment</td>\n",
       "      <td>MMD PROMISE(SAMFREE) SAMFREE SAMメモリーズ TDA式改変ルカ...</td>\n",
       "      <td>2021-09-24T17:53:02+09:00</td>\n",
       "      <td>mp4</td>\n",
       "      <td>263</td>\n",
       "      <td>1</td>\n",
       "      <td>1</td>\n",
       "    </tr>\n",
       "    <tr>\n",
       "      <th>671945</th>\n",
       "      <td>sm39405133</td>\n",
       "      <td>36</td>\n",
       "      <td>0</td>\n",
       "      <td>1</td>\n",
       "      <td>自分勝手　.feat AI きりたん</td>\n",
       "      <td>短い間でしたが、たくさん楽しませてくれました。&lt;br&gt;ありがとうございました。またどこかで。</td>\n",
       "      <td>music_sound</td>\n",
       "      <td>AIシンガーキリタン VOCALOID 東北キリタン</td>\n",
       "      <td>2021-09-29T02:31:02+09:00</td>\n",
       "      <td>mp4</td>\n",
       "      <td>195</td>\n",
       "      <td>1</td>\n",
       "      <td>1</td>\n",
       "    </tr>\n",
       "  </tbody>\n",
       "</table>\n",
       "<p>671946 rows × 13 columns</p>\n",
       "</div>"
      ],
      "text/plain": [
       "          video_id  watch_num comment_num  mylist_num  \\\n",
       "0        sm1038650       6502          59          60   \n",
       "1        sm1083650       7086         156          15   \n",
       "2        sm1243650       1256          97           7   \n",
       "3        sm1333650       3461         109          12   \n",
       "4        sm1458650       1678          43          15   \n",
       "...            ...        ...         ...         ...   \n",
       "671941  sm39286133         79           3           3   \n",
       "671942  sm39316133        282          11           6   \n",
       "671943  sm39321133         40           8           0   \n",
       "671944  sm39382133       1788          95          22   \n",
       "671945  sm39405133         36           0           1   \n",
       "\n",
       "                                          title  \\\n",
       "0                    テレポーテーション－恋の未確認－ボーカロイドとmix   \n",
       "1                          初音ミクの間違った使用方法２・夏の思い出   \n",
       "2                         初音ミクが古城の門を通りますよver0.1   \n",
       "3                  みくまうた(2) 『ググっても仕方ない』 唄：熊音ミクス   \n",
       "4                    ラムネ「ラムネ色のメロディ」を初音ミクが頑張ってみた   \n",
       "...                                         ...   \n",
       "671941      【GUMI×巡音ルカ】音楽って楽しい【ツインボーカル】【オリジナル曲】   \n",
       "671942                           魔女とカンテラ / 巡音ルカ   \n",
       "671943                     【トークロイド】星に願いを#5【ラジオ】   \n",
       "671944  【Tda Teto &amp; Luka Lace Dress】Promise   \n",
       "671945                       自分勝手　.feat AI きりたん   \n",
       "\n",
       "                                              description       category  \\\n",
       "0       sm1021218 (VOCALOID2 MIKU ver)とsm1021296 原曲とを勝...          anime   \n",
       "1       やっぱ、虫の音もダメダメ。　mylist/1049849/2448478　　◆9/18記：し...           None   \n",
       "2       練習がてら初投稿<br />使用ソフト：初音ミク体験版、Domino 1.24、TiMidi...           None   \n",
       "3       ＰＣソフト「初音ミク」より。レッツゴォ吉から一言「昨日の敵は今日の友って古い言葉があるけど、...  entertainment   \n",
       "4       ■前作sm1453197の修正版です。全パラメータをリセットして一から作り直しました。これで...           None   \n",
       "...                                                   ...            ...   \n",
       "671941  <strong>ツインボーカル</strong>をやってみたくて、GUMIと巡音ルカでやって...    music_sound   \n",
       "671942                                        夜の静寂に、熱と光を。    music_sound   \n",
       "671943                     お手紙ぼしゅう→lm1grandprix@gmail.com  entertainment   \n",
       "671944  だんしゃくいも様、盗賊@つばきP様、Aih kob様<br>Cream pie様、大黒屋様、...  entertainment   \n",
       "671945     短い間でしたが、たくさん楽しませてくれました。<br>ありがとうございました。またどこかで。    music_sound   \n",
       "\n",
       "                                                     tags  \\\n",
       "0       VOCALOID VOCALOID2 アニメ ウシオオネエサン オッサンホイホイ 初音ミク 橋本潮   \n",
       "1       VOCALOID 『CTRL+N』推奨 コイツチョットダケウG ポンコツ歌姫 初音セミ 初音...   \n",
       "2       VOCALOID VOCALOID校歌シリーズ 上田 上田高 再生数ガ急ニ伸ビル動画 初音ミ...   \n",
       "3       VOCALOID エンターテイメント クマウタ ミクハ末期シリーズ ミクマウタ 仕事ヲ選ベナ...   \n",
       "4                        VOCALOID ネコネコソフト ラムネ 初音ミク 歌ワセテミタ   \n",
       "...                                                   ...   \n",
       "671941  GUMI GUMIオリジナル曲 VOCALOID新曲リンク ボカロオリジナル曲 ルカ&AMP...   \n",
       "671942  VOCALOID VOCALOIDオリジナル曲 オ洒落ナルカウタ ルカオリジナル曲 夜ノウタ...   \n",
       "671943                       VOCALOID トークロイド ボカロラジオ 蒼姫ラピス   \n",
       "671944  MMD PROMISE(SAMFREE) SAMFREE SAMメモリーズ TDA式改変ルカ...   \n",
       "671945                         AIシンガーキリタン VOCALOID 東北キリタン   \n",
       "\n",
       "                      upload_time file_type  length  size_high  size_low  \n",
       "0       2007-09-11T18:02:46+09:00       flv      62    2355098   2333208  \n",
       "1       2007-09-18T00:41:49+09:00       flv      40    1489849   1460399  \n",
       "2       2007-10-10T00:48:53+09:00       flv      45     709529    563865  \n",
       "3       2007-10-21T21:41:52+09:00       flv      94    2827861   2289888  \n",
       "4       2007-11-05T20:42:46+09:00       flv      90    3493129   3410404  \n",
       "...                           ...       ...     ...        ...       ...  \n",
       "671941  2021-09-04T16:58:02+09:00       mp4     277          1         1  \n",
       "671942  2021-09-11T23:01:02+09:00       mp4     232          1         1  \n",
       "671943  2021-09-11T23:59:02+09:00       mp4     670          1         1  \n",
       "671944  2021-09-24T17:53:02+09:00       mp4     263          1         1  \n",
       "671945  2021-09-29T02:31:02+09:00       mp4     195          1         1  \n",
       "\n",
       "[671946 rows x 13 columns]"
      ]
     },
     "execution_count": 409,
     "metadata": {},
     "output_type": "execute_result"
    }
   ],
   "source": [
    "json_data = []\n",
    "# read each file\n",
    "for js in json_files:\n",
    "    with open(os.path.join(path, js)) as json_file:\n",
    "        lines = json_file.readlines()\n",
    "        for line in lines:\n",
    "            dict_line = json.loads(line)\n",
    "            # only add to the DataFrame if it has the VOCALOID tag\n",
    "            if 'VOCALOID' in dict_line[\"tags\"]:\n",
    "                json_data.append(dict_line)\n",
    "\n",
    "df = pd.DataFrame.from_dict(json_data)\n",
    "\n",
    "df"
   ]
  },
  {
   "cell_type": "code",
   "execution_count": 423,
   "id": "48703bdc",
   "metadata": {},
   "outputs": [
    {
     "data": {
      "text/html": [
       "<div>\n",
       "<style scoped>\n",
       "    .dataframe tbody tr th:only-of-type {\n",
       "        vertical-align: middle;\n",
       "    }\n",
       "\n",
       "    .dataframe tbody tr th {\n",
       "        vertical-align: top;\n",
       "    }\n",
       "\n",
       "    .dataframe thead th {\n",
       "        text-align: right;\n",
       "    }\n",
       "</style>\n",
       "<table border=\"1\" class=\"dataframe\">\n",
       "  <thead>\n",
       "    <tr style=\"text-align: right;\">\n",
       "      <th></th>\n",
       "      <th>watch_num</th>\n",
       "      <th>comment_num</th>\n",
       "      <th>mylist_num</th>\n",
       "      <th>length</th>\n",
       "      <th>month</th>\n",
       "    </tr>\n",
       "  </thead>\n",
       "  <tbody>\n",
       "    <tr>\n",
       "      <th>0</th>\n",
       "      <td>6502</td>\n",
       "      <td>59</td>\n",
       "      <td>60</td>\n",
       "      <td>62</td>\n",
       "      <td>2007-09</td>\n",
       "    </tr>\n",
       "    <tr>\n",
       "      <th>1</th>\n",
       "      <td>7086</td>\n",
       "      <td>156</td>\n",
       "      <td>15</td>\n",
       "      <td>40</td>\n",
       "      <td>2007-09</td>\n",
       "    </tr>\n",
       "    <tr>\n",
       "      <th>2</th>\n",
       "      <td>1256</td>\n",
       "      <td>97</td>\n",
       "      <td>7</td>\n",
       "      <td>45</td>\n",
       "      <td>2007-10</td>\n",
       "    </tr>\n",
       "    <tr>\n",
       "      <th>3</th>\n",
       "      <td>3461</td>\n",
       "      <td>109</td>\n",
       "      <td>12</td>\n",
       "      <td>94</td>\n",
       "      <td>2007-10</td>\n",
       "    </tr>\n",
       "    <tr>\n",
       "      <th>4</th>\n",
       "      <td>1678</td>\n",
       "      <td>43</td>\n",
       "      <td>15</td>\n",
       "      <td>90</td>\n",
       "      <td>2007-11</td>\n",
       "    </tr>\n",
       "  </tbody>\n",
       "</table>\n",
       "</div>"
      ],
      "text/plain": [
       "   watch_num comment_num  mylist_num  length    month\n",
       "0       6502          59          60      62  2007-09\n",
       "1       7086         156          15      40  2007-09\n",
       "2       1256          97           7      45  2007-10\n",
       "3       3461         109          12      94  2007-10\n",
       "4       1678          43          15      90  2007-11"
      ]
     },
     "execution_count": 423,
     "metadata": {},
     "output_type": "execute_result"
    }
   ],
   "source": [
    "# create a new column extracting only the year and month of the upload date\n",
    "df[\"month\"] = [x[:7] for x in df[\"upload_time\"]]\n",
    "df[\"month\"] = pd.to_datetime(df[\"month\"]).dt.to_period('M')\n",
    "\n",
    "# discard unnecessary columns for this project\n",
    "filtered_df = df[[\"watch_num\", \"comment_num\", \"mylist_num\", \"length\", \"month\"]]\n",
    "\n",
    "filtered_df.head()\n"
   ]
  },
  {
   "cell_type": "code",
   "execution_count": 431,
   "id": "f4f78177",
   "metadata": {},
   "outputs": [
    {
     "data": {
      "text/plain": [
       "count    671946.00\n",
       "mean        266.54\n",
       "std         355.60\n",
       "min           1.00\n",
       "25%         182.00\n",
       "50%         228.00\n",
       "75%         273.00\n",
       "max       34190.00\n",
       "Name: length, dtype: float64"
      ]
     },
     "execution_count": 431,
     "metadata": {},
     "output_type": "execute_result"
    }
   ],
   "source": [
    "##### extract the videos with more than 100,000 views\n",
    "pop_df = filtered_df[filtered_df[\"watch_num\"]>100000]\n",
    "\n",
    "# describe the numerical values of the whole table\n",
    "filtered_df.describe()[\"length\"].round(2)"
   ]
  },
  {
   "cell_type": "code",
   "execution_count": 442,
   "id": "a3e86691",
   "metadata": {},
   "outputs": [
    {
     "data": {
      "text/plain": [
       "count     8538.00\n",
       "mean       288.74\n",
       "std        687.03\n",
       "min          7.00\n",
       "25%        201.00\n",
       "50%        235.00\n",
       "75%        272.00\n",
       "max      34190.00\n",
       "Name: length, dtype: float64"
      ]
     },
     "execution_count": 442,
     "metadata": {},
     "output_type": "execute_result"
    }
   ],
   "source": [
    "# describe the numerical values of the extracted table\n",
    "pop_df.describe()[\"length\"].round(2)\n"
   ]
  },
  {
   "cell_type": "code",
   "execution_count": 447,
   "id": "9e3cc491",
   "metadata": {},
   "outputs": [
    {
     "name": "stderr",
     "output_type": "stream",
     "text": [
      "/tmp/ipykernel_3117/3595765568.py:2: SettingWithCopyWarning: \n",
      "A value is trying to be set on a copy of a slice from a DataFrame.\n",
      "Try using .loc[row_indexer,col_indexer] = value instead\n",
      "\n",
      "See the caveats in the documentation: https://pandas.pydata.org/pandas-docs/stable/user_guide/indexing.html#returning-a-view-versus-a-copy\n",
      "  pop_df[\"year\"] = pop_df[\"month\"].dt.year\n"
     ]
    },
    {
     "data": {
      "text/html": [
       "<div>\n",
       "<style scoped>\n",
       "    .dataframe tbody tr th:only-of-type {\n",
       "        vertical-align: middle;\n",
       "    }\n",
       "\n",
       "    .dataframe tbody tr th {\n",
       "        vertical-align: top;\n",
       "    }\n",
       "\n",
       "    .dataframe thead th {\n",
       "        text-align: right;\n",
       "    }\n",
       "</style>\n",
       "<table border=\"1\" class=\"dataframe\">\n",
       "  <thead>\n",
       "    <tr style=\"text-align: right;\">\n",
       "      <th></th>\n",
       "      <th>watch_num</th>\n",
       "      <th>comment_num</th>\n",
       "      <th>mylist_num</th>\n",
       "      <th>length</th>\n",
       "      <th>year</th>\n",
       "    </tr>\n",
       "  </thead>\n",
       "  <tbody>\n",
       "    <tr>\n",
       "      <th>6</th>\n",
       "      <td>118385</td>\n",
       "      <td>10543</td>\n",
       "      <td>3299</td>\n",
       "      <td>113</td>\n",
       "      <td>2007</td>\n",
       "    </tr>\n",
       "    <tr>\n",
       "      <th>13</th>\n",
       "      <td>298159</td>\n",
       "      <td>14309</td>\n",
       "      <td>8842</td>\n",
       "      <td>242</td>\n",
       "      <td>2008</td>\n",
       "    </tr>\n",
       "    <tr>\n",
       "      <th>23</th>\n",
       "      <td>206428</td>\n",
       "      <td>3253</td>\n",
       "      <td>1993</td>\n",
       "      <td>120</td>\n",
       "      <td>2008</td>\n",
       "    </tr>\n",
       "    <tr>\n",
       "      <th>35</th>\n",
       "      <td>356495</td>\n",
       "      <td>11863</td>\n",
       "      <td>11336</td>\n",
       "      <td>202</td>\n",
       "      <td>2008</td>\n",
       "    </tr>\n",
       "    <tr>\n",
       "      <th>38</th>\n",
       "      <td>665440</td>\n",
       "      <td>31733</td>\n",
       "      <td>12262</td>\n",
       "      <td>201</td>\n",
       "      <td>2008</td>\n",
       "    </tr>\n",
       "  </tbody>\n",
       "</table>\n",
       "</div>"
      ],
      "text/plain": [
       "    watch_num comment_num  mylist_num  length  year\n",
       "6      118385       10543        3299     113  2007\n",
       "13     298159       14309        8842     242  2008\n",
       "23     206428        3253        1993     120  2008\n",
       "35     356495       11863       11336     202  2008\n",
       "38     665440       31733       12262     201  2008"
      ]
     },
     "execution_count": 447,
     "metadata": {},
     "output_type": "execute_result"
    }
   ],
   "source": [
    "# each month on average only has 47 entries, so congregate to year instead\n",
    "pop_df[\"year\"] = pop_df[\"month\"].dt.year\n",
    "pop_df = pop_df[[\"watch_num\", \"comment_num\", \"mylist_num\", \"length\", \"year\"]]\n",
    "pop_df.sort_values(by=\"year\")\n",
    "\n",
    "\n",
    "pop_df.head()"
   ]
  },
  {
   "cell_type": "code",
   "execution_count": 448,
   "id": "1643d9aa",
   "metadata": {},
   "outputs": [
    {
     "name": "stdout",
     "output_type": "stream",
     "text": [
      "month\n",
      "2007-09    144.0\n",
      "2007-10    154.0\n",
      "2007-11    178.0\n",
      "2007-12    182.0\n",
      "2008-01    188.0\n",
      "           ...  \n",
      "2021-04    210.0\n",
      "2021-05    210.0\n",
      "2021-06    211.0\n",
      "2021-07    211.0\n",
      "2021-08    208.0\n",
      "Freq: M, Name: length, Length: 168, dtype: float64\n",
      "year\n",
      "2007    219.0\n",
      "2008    244.0\n",
      "2009    244.0\n",
      "2010    246.0\n",
      "2011    237.0\n",
      "2012    236.0\n",
      "2013    236.0\n",
      "2014    238.0\n",
      "2015    234.0\n",
      "2016    229.0\n",
      "2017    228.5\n",
      "2018    230.0\n",
      "2019    219.5\n",
      "2020    207.0\n",
      "2021    206.0\n",
      "Name: length, dtype: float64\n"
     ]
    }
   ],
   "source": [
    "lengths = filtered_df.groupby(\"month\").median()[\"length\"]\n",
    "pop_lengths = pop_df.groupby(\"year\").median()[\"length\"]\n",
    "\n",
    "filtered_lengths = lengths.drop(labels=[\"2007-03\", \"2007-04\", \"2007-05\", \"2007-06\", \"2007-07\", \"2007-08\", \"2021-09\"])\n",
    "\n",
    "print (filtered_lengths)\n",
    "print (pop_lengths)"
   ]
  },
  {
   "cell_type": "code",
   "execution_count": 440,
   "id": "df9bbd3a",
   "metadata": {},
   "outputs": [
    {
     "data": {
      "image/png": "[encoded data removed]",
      "text/plain": [
       "<Figure size 432x288 with 1 Axes>"
      ]
     },
     "metadata": {
      "needs_background": "light"
     },
     "output_type": "display_data"
    },
    {
     "name": "stdout",
     "output_type": "stream",
     "text": [
      "[0.01485807]\n",
      "225.59270744225833\n",
      "0.003260692017708511\n"
     ]
    },
    {
     "data": {
      "image/png": "[encoded data removed]",
      "text/plain": [
       "<Figure size 432x288 with 1 Axes>"
      ]
     },
     "metadata": {
      "needs_background": "light"
     },
     "output_type": "display_data"
    },
    {
     "name": "stdout",
     "output_type": "stream",
     "text": [
      "[228.29687603 228.3117341 ]\n",
      "[-0.00366937  0.63498151]\n",
      "208.0225433384522\n",
      "0.3774002806095138\n"
     ]
    },
    {
     "data": {
      "image/png": "[encoded data removed]",
      "text/plain": [
       "<Figure size 432x288 with 1 Axes>"
      ]
     },
     "metadata": {
      "needs_background": "light"
     },
     "output_type": "display_data"
    },
    {
     "name": "stdout",
     "output_type": "stream",
     "text": [
      "[202.04498378 201.34064543]\n",
      "[ 4.01640387e-05 -1.38509533e-02  1.32530092e+00]\n",
      "198.1565886377445\n",
      "0.4587058061003386\n"
     ]
    },
    {
     "data": {
      "image/png": "[encoded data removed]",
      "text/plain": [
       "<Figure size 432x288 with 1 Axes>"
      ]
     },
     "metadata": {
      "needs_background": "light"
     },
     "output_type": "display_data"
    },
    {
     "name": "stdout",
     "output_type": "stream",
     "text": [
      "[222.69401892 222.97687248]\n",
      "[-1.78496702e-06  6.43482891e-04 -7.95277947e-02  3.80899226e+00]\n",
      "176.60931439544083\n",
      "0.7463114716483401\n"
     ]
    },
    {
     "data": {
      "image/png": "[encoded data removed]",
      "text/plain": [
       "<Figure size 432x288 with 1 Axes>"
      ]
     },
     "metadata": {
      "needs_background": "light"
     },
     "output_type": "display_data"
    },
    {
     "name": "stdout",
     "output_type": "stream",
     "text": [
      "[156.38289912 152.06118036]\n"
     ]
    }
   ],
   "source": [
    "import numpy as np\n",
    "import matplotlib.pyplot as plt\n",
    "from sklearn.model_selection import KFold, cross_val_score\n",
    "from sklearn import linear_model\n",
    "import scipy\n",
    "import seaborn as sns\n",
    "\n",
    "\n",
    "plt.scatter(lst, filtered_lengths, s=15)\n",
    "plt.title('Scatter plot of median song lengths against ordered months')\n",
    "plt.xlabel('Month (ordered from 1 (2007-09) to 168 (2021-09))', color='#1C2833')\n",
    "plt.ylabel('Song length (seconds)', color='#1C2833')\n",
    "plt.show()\n",
    "\n",
    "\n",
    "\n",
    "lst = np.array(list(range(1,169)))\n",
    "x = lst.reshape(-1,1)\n",
    "# find linear line\n",
    "reg = linear_model.LinearRegression()\n",
    "reg.fit(x, filtered_lengths)\n",
    "print(reg.coef_)\n",
    "print(reg.intercept_)\n",
    "print(reg.score(x, filtered_lengths)) # this is R^2\n",
    "\n",
    "y = reg.coef_ * x + reg.intercept_\n",
    "\n",
    "plt.scatter(lst, filtered_lengths, s=15)\n",
    "plt.title('Linear regression of the data points')\n",
    "plt.xlabel('Month (ordered from 1 (2007-09) to 168 (2021-09))', color='#1C2833')\n",
    "plt.ylabel('Song length (seconds)', color='#1C2833')\n",
    "plt.plot(lst, y, '-r', label='Linear regression line')\n",
    "plt.show()\n",
    "\n",
    "# 2022-10, 2022-11\n",
    "print(reg.predict([[182], [183]]))\n",
    "\n",
    "reg = linear_model.LinearRegression()\n",
    "lst2 = lst ** 2\n",
    "X2 = np.array([lst2, lst]).transpose()\n",
    "reg.fit(X2, filtered_lengths)\n",
    "\n",
    "\n",
    "print(reg.coef_)\n",
    "print(reg.intercept_)\n",
    "print(reg.score(X2, filtered_lengths)) # this is R^2\n",
    "\n",
    "y = np.matmul(X2, reg.coef_) + reg.intercept_\n",
    "\n",
    "plt.scatter(lst, filtered_lengths, s=15)\n",
    "plt.title('Quadratic model of the data points')\n",
    "plt.xlabel('Month (ordered from 1 (2007-09) to 168 (2021-09))', color='#1C2833')\n",
    "plt.ylabel('Song length (seconds)', color='#1C2833')\n",
    "plt.plot(lst, y, '-r', label='Linear regression line')\n",
    "plt.show()\n",
    "\n",
    "print(reg.predict([[33124, 182],[33489, 183]]))\n",
    "\n",
    "reg = linear_model.LinearRegression()\n",
    "lst3 = lst ** 3\n",
    "X3 = np.array([lst3, lst2, lst]).transpose()\n",
    "reg.fit(X3, filtered_lengths)\n",
    "\n",
    "print(reg.coef_)\n",
    "print(reg.intercept_)\n",
    "print(reg.score(X3, filtered_lengths)) # this is R^2\n",
    "\n",
    "y = np.matmul(X3, reg.coef_) + reg.intercept_\n",
    "\n",
    "plt.scatter(lst, filtered_lengths, s=15)\n",
    "plt.title('Cubic model of the data points')\n",
    "plt.xlabel('Month (ordered from 1 (2007-09) to 168 (2021-09))', color='#1C2833')\n",
    "plt.ylabel('Song length (seconds)', color='#1C2833')\n",
    "plt.plot(lst, y, '-r', label='Linear regression line')\n",
    "plt.show()\n",
    "\n",
    "print(reg.predict([[6028568, 33124, 182],[6128487, 33489, 183]]))\n",
    "\n",
    "reg = linear_model.LinearRegression()\n",
    "lst4 = lst ** 4\n",
    "X4 = np.array([lst4, lst3, lst2, lst]).transpose()\n",
    "reg.fit(X4, filtered_lengths)\n",
    "\n",
    "print(reg.coef_)\n",
    "print(reg.intercept_)\n",
    "print(reg.score(X4, filtered_lengths)) # this is R^2\n",
    "\n",
    "y = np.matmul(X4, reg.coef_) + reg.intercept_\n",
    "\n",
    "plt.scatter(lst, filtered_lengths, s=15)\n",
    "plt.title('Quartic model of the data points')\n",
    "plt.xlabel('Month (ordered from 1 (2007-09) to 168 (2021-09))', color='#1C2833')\n",
    "plt.ylabel('Song length (seconds)', color='#1C2833')\n",
    "plt.plot(lst, y, '-r', label='Linear regression line')\n",
    "plt.show()\n",
    "\n",
    "print(reg.predict([[1097199376, 6028568, 33124, 182],[1121513121, 6128487, 33489, 183]]))\n"
   ]
  },
  {
   "cell_type": "code",
   "execution_count": 294,
   "id": "8aa69b31",
   "metadata": {},
   "outputs": [
    {
     "name": "stdout",
     "output_type": "stream",
     "text": [
      "[-0.01374662 -0.23002038 -0.06402345 -0.07485037  0.00191025]\n",
      "[ 0.37368215 -0.41867047  0.36834027  0.31442615  0.34974564]\n",
      "[ 0.43390701 -0.28114687  0.48091588  0.44263621  0.28789936]\n",
      "[0.72234192 0.42800837 0.75189053 0.79317775 0.68668748]\n",
      "-0.07614611418646319 0.1975047472961038 0.27284231749412735 0.6764212085514651\n"
     ]
    }
   ],
   "source": [
    "folds = KFold(n_splits = 5, shuffle = True, random_state = 100)\n",
    "\n",
    "reg = linear_model.LinearRegression()\n",
    "scores = cross_val_score(reg, x, filtered_lengths, scoring='r2', cv=folds)\n",
    "scores2 = cross_val_score(reg, X2, filtered_lengths, scoring='r2', cv=folds)\n",
    "scores3 = cross_val_score(reg, X3, filtered_lengths, scoring='r2', cv=folds)\n",
    "scores4 = cross_val_score(reg, X4, filtered_lengths, scoring='r2', cv=folds)\n",
    "\n",
    "print (scores)\n",
    "print (scores2)\n",
    "print (scores3)\n",
    "print (scores4)\n",
    "\n",
    "print (scores.mean(), scores2.mean(), scores3.mean(), scores4.mean())\n"
   ]
  },
  {
   "cell_type": "code",
   "execution_count": 444,
   "id": "d7339117",
   "metadata": {},
   "outputs": [
    {
     "data": {
      "image/png": "[encoded data removed]",
      "text/plain": [
       "<Figure size 432x288 with 1 Axes>"
      ]
     },
     "metadata": {
      "needs_background": "light"
     },
     "output_type": "display_data"
    },
    {
     "name": "stdout",
     "output_type": "stream",
     "text": [
      "[-1.93214286]\n",
      "245.72380952380954\n",
      "0.4778610939979665\n"
     ]
    },
    {
     "data": {
      "image/png": "[encoded data removed]",
      "text/plain": [
       "<Figure size 432x288 with 1 Axes>"
      ]
     },
     "metadata": {
      "needs_background": "light"
     },
     "output_type": "display_data"
    },
    {
     "name": "stdout",
     "output_type": "stream",
     "text": [
      "[214.80952381]\n",
      "[-0.40982547  4.62506464]\n",
      "227.14505494505497\n",
      "0.7946150944227748\n"
     ]
    },
    {
     "data": {
      "image/png": "[encoded data removed]",
      "text/plain": [
       "<Figure size 432x288 with 1 Axes>"
      ]
     },
     "metadata": {
      "needs_background": "light"
     },
     "output_type": "display_data"
    },
    {
     "name": "stdout",
     "output_type": "stream",
     "text": [
      "[196.23076923]\n",
      "[ 0.02172365 -0.93119299  8.07043501]\n",
      "221.8271062271062\n",
      "0.8069733709338637\n"
     ]
    },
    {
     "data": {
      "image/png": "[encoded data removed]",
      "text/plain": [
       "<Figure size 432x288 with 1 Axes>"
      ]
     },
     "metadata": {
      "needs_background": "light"
     },
     "output_type": "display_data"
    },
    {
     "name": "stdout",
     "output_type": "stream",
     "text": [
      "[201.54871795]\n"
     ]
    }
   ],
   "source": [
    "pop_lst = np.array(list(range(1,16)))\n",
    "\n",
    "\n",
    "\n",
    "plt.scatter(pop_lst, pop_lengths, s=15)\n",
    "plt.title('Scatter plot of median song lengths against ordered years')\n",
    "plt.xlabel('Year (ordered from 1 (2007) to 15 (2021))', color='#1C2833')\n",
    "plt.ylabel('Song length (seconds)', color='#1C2833')\n",
    "plt.show()\n",
    "\n",
    "\n",
    "\n",
    "x = pop_lst.reshape(-1,1)\n",
    "# find linear line\n",
    "reg = linear_model.LinearRegression()\n",
    "reg.fit(x, pop_lengths)\n",
    "\n",
    "\n",
    "print(reg.coef_)\n",
    "print(reg.intercept_)\n",
    "print(reg.score(x, pop_lengths)) # this is R^2\n",
    "\n",
    "y = reg.coef_ * x + reg.intercept_\n",
    "\n",
    "\n",
    "plt.plot(pop_lst, y, '-r', label='Linear regression line')\n",
    "plt.scatter(pop_lst, pop_lengths, s=15)\n",
    "plt.title('Linear model of the data points')\n",
    "plt.xlabel('Year (ordered from 1 (2007) to 15 (2021))', color='#1C2833')\n",
    "plt.ylabel('Song length (seconds)', color='#1C2833')\n",
    "plt.show()\n",
    "\n",
    "\n",
    "#2022\n",
    "print(reg.predict([[16]]))\n",
    "\n",
    "reg = linear_model.LinearRegression()\n",
    "pop_lst2 = pop_lst ** 2\n",
    "X2 = np.array([pop_lst2, pop_lst]).transpose()\n",
    "reg.fit(X2, pop_lengths)\n",
    "\n",
    "\n",
    "print(reg.coef_)\n",
    "print(reg.intercept_)\n",
    "print(reg.score(X2, pop_lengths)) # this is R^2\n",
    "\n",
    "y = np.matmul(X2, reg.coef_) + reg.intercept_\n",
    "\n",
    "\n",
    "plt.plot(pop_lst, y, '-r')\n",
    "plt.scatter(pop_lst, pop_lengths, s=15)\n",
    "plt.title('Quadratic model of the data points')\n",
    "plt.xlabel('Year (ordered from 1 (2007) to 15 (2021))', color='#1C2833')\n",
    "plt.ylabel('Song length (seconds)', color='#1C2833')\n",
    "plt.show()\n",
    "\n",
    "print(reg.predict([[256, 16]]))\n",
    "\n",
    "reg = linear_model.LinearRegression()\n",
    "pop_lst3 = pop_lst ** 3\n",
    "X3 = np.array([pop_lst3, pop_lst2, pop_lst]).transpose()\n",
    "reg.fit(X3, pop_lengths)\n",
    "\n",
    "print(reg.coef_)\n",
    "print(reg.intercept_)\n",
    "print(reg.score(X3, pop_lengths)) # this is R^2\n",
    "\n",
    "y = np.matmul(X3, reg.coef_) + reg.intercept_\n",
    "\n",
    "\n",
    "plt.plot(pop_lst, y, '-r')\n",
    "plt.scatter(pop_lst, pop_lengths, s=15)\n",
    "plt.title('Cubic model of the data points')\n",
    "plt.xlabel('Year (ordered from 1 (2007) to 15 (2021))', color='#1C2833')\n",
    "plt.ylabel('Song length (seconds)', color='#1C2833')\n",
    "plt.show()\n",
    "\n",
    "\n",
    "\n",
    "print(reg.predict([[4096, 256, 16]]))"
   ]
  },
  {
   "cell_type": "code",
   "execution_count": 296,
   "id": "8bc9cd2b",
   "metadata": {},
   "outputs": [
    {
     "name": "stdout",
     "output_type": "stream",
     "text": [
      "[ 0.62453513 -0.08714126]\n",
      "[0.52408398 0.3407961 ]\n",
      "[ 0.57587999 -0.05876148]\n",
      "0.2686969351763874 0.43244004226082927 0.2585592571287604\n"
     ]
    }
   ],
   "source": [
    "folds = KFold(n_splits = 2, shuffle = True, random_state = 100)\n",
    "\n",
    "\n",
    "reg = linear_model.LinearRegression()\n",
    "scores = cross_val_score(reg, x, pop_lengths, scoring='r2', cv=folds)\n",
    "scores2 = cross_val_score(reg, X2, pop_lengths, scoring='r2', cv=folds)\n",
    "scores3 = cross_val_score(reg, X3, pop_lengths, scoring='r2', cv=folds)\n",
    "\n",
    "print (scores)\n",
    "print (scores2)\n",
    "print (scores3)\n",
    "\n",
    "\n",
    "print (scores.mean(), scores2.mean(), scores3.mean())"
   ]
  },
  {
   "cell_type": "code",
   "execution_count": 302,
   "id": "d4372ce7",
   "metadata": {},
   "outputs": [
    {
     "name": "stdout",
     "output_type": "stream",
     "text": [
      "[ 0.32938257 47.79165665]\n",
      "429.41204034856673\n",
      "0.8340757822425953\n",
      "[ 0.32942462 47.79195152 -0.35902197]\n",
      "525.0449641126033\n",
      "0.8340771385602392\n"
     ]
    }
   ],
   "source": [
    "X = filtered_df[[\"comment_num\", \"mylist_num\"]]\n",
    "y = filtered_df[\"watch_num\"]\n",
    "reg = linear_model.LinearRegression()\n",
    "reg.fit(X, y)\n",
    "\n",
    "print(reg.coef_)\n",
    "print(reg.intercept_)\n",
    "print(reg.score(X, y)) # this is R^2\n",
    "\n",
    "\n",
    "\n",
    "X = filtered_df[[\"comment_num\", \"mylist_num\", \"length\"]]\n",
    "y = filtered_df[\"watch_num\"]\n",
    "reg = linear_model.LinearRegression()\n",
    "reg.fit(X, y)\n",
    "\n",
    "print(reg.coef_)\n",
    "print(reg.intercept_)\n",
    "print(reg.score(X, y)) # this is R^2"
   ]
  },
  {
   "cell_type": "code",
   "execution_count": 518,
   "id": "f50e6715",
   "metadata": {},
   "outputs": [
    {
     "name": "stdout",
     "output_type": "stream",
     "text": [
      "0.045698402093379165\n",
      "0.7868920869563316\n",
      "2.571173243071101e-05\n",
      "0.7911748014842788\n",
      "0.7869550298782888\n",
      "0.04575899042630038\n",
      "0.7912512010120106\n"
     ]
    }
   ],
   "source": [
    "X = pop_df[[\"comment_num\"]]\n",
    "y = pop_df[\"watch_num\"]\n",
    "reg = linear_model.LinearRegression()\n",
    "reg.fit(X, y)\n",
    "\n",
    "\n",
    "print(reg.score(X, y)) # this is R^2\n",
    "\n",
    "\n",
    "\n",
    "X = pop_df[[\"mylist_num\"]]\n",
    "y = pop_df[\"watch_num\"]\n",
    "reg = linear_model.LinearRegression()\n",
    "reg.fit(X, y)\n",
    "\n",
    "\n",
    "print(reg.score(X, y)) # this is R^2\n",
    "\n",
    "\n",
    "\n",
    "X = pop_df[[\"length\"]]\n",
    "y = pop_df[\"watch_num\"]\n",
    "reg = linear_model.LinearRegression()\n",
    "reg.fit(X, y)\n",
    "\n",
    "\n",
    "print(reg.score(X, y)) # this is R^2\n",
    "\n",
    "\n",
    "X = pop_df[[\"comment_num\", \"mylist_num\"]]\n",
    "y = pop_df[\"watch_num\"]\n",
    "reg = linear_model.LinearRegression()\n",
    "reg.fit(X, y)\n",
    "\n",
    "\n",
    "print(reg.score(X, y)) # this is R^2\n",
    "\n",
    "\n",
    "\n",
    "X = pop_df[[\"mylist_num\", \"length\"]]\n",
    "y = pop_df[\"watch_num\"]\n",
    "reg = linear_model.LinearRegression()\n",
    "reg.fit(X, y)\n",
    "\n",
    "\n",
    "print(reg.score(X, y)) # this is R^2\n",
    "\n",
    "\n",
    "X = pop_df[[\"comment_num\", \"length\"]]\n",
    "y = pop_df[\"watch_num\"]\n",
    "reg = linear_model.LinearRegression()\n",
    "reg.fit(X, y)\n",
    "\n",
    "\n",
    "print(reg.score(X, y)) # this is R^2\n",
    "\n",
    "\n",
    "\n",
    "X = pop_df[[\"comment_num\", \"mylist_num\", \"length\"]]\n",
    "y = pop_df[\"watch_num\"]\n",
    "reg = linear_model.LinearRegression()\n",
    "reg.fit(X, y)\n",
    "\n",
    "\n",
    "print(reg.score(X, y)) # this is R^2"
   ]
  },
  {
   "cell_type": "code",
   "execution_count": 522,
   "id": "bb884832",
   "metadata": {},
   "outputs": [
    {
     "name": "stdout",
     "output_type": "stream",
     "text": [
      "count    48612.000000\n",
      "mean       204.273595\n",
      "std         68.024745\n",
      "min          1.000000\n",
      "25%        169.000000\n",
      "50%        209.000000\n",
      "75%        248.000000\n",
      "max        419.000000\n",
      "Name: length, dtype: float64\n"
     ]
    },
    {
     "data": {
      "image/png": "[encoded data removed]",
      "text/plain": [
       "<Figure size 432x288 with 1 Axes>"
      ]
     },
     "metadata": {
      "needs_background": "light"
     },
     "output_type": "display_data"
    }
   ],
   "source": [
    "x = filtered_df[filtered_df[\"length\"]<420]\n",
    "x = x[x[\"watch_num\"]<=100000]\n",
    "x = x[x[\"month\"]>\"2020-12\"][\"length\"]\n",
    "\n",
    "y = filtered_df[filtered_df[\"length\"]<420]\n",
    "y = y[y[\"watch_num\"]<=100000]\n",
    "y = y[y[\"month\"]>\"2020-12\"][\"watch_num\"]\n",
    "\n",
    "print (x.describe())\n",
    "plt.scatter(x, y)\n",
    "plt.show()"
   ]
  },
  {
   "cell_type": "code",
   "execution_count": 521,
   "id": "bc5a08d5",
   "metadata": {},
   "outputs": [
    {
     "name": "stdout",
     "output_type": "stream",
     "text": [
      "count    8184.000000\n",
      "mean      229.052419\n",
      "std        62.701024\n",
      "min         7.000000\n",
      "25%       200.000000\n",
      "50%       232.000000\n",
      "75%       267.000000\n",
      "max       419.000000\n",
      "Name: length, dtype: float64\n"
     ]
    },
    {
     "data": {
      "image/png": "[encoded data removed]",
      "text/plain": [
       "<Figure size 432x288 with 1 Axes>"
      ]
     },
     "metadata": {
      "needs_background": "light"
     },
     "output_type": "display_data"
    },
    {
     "data": {
      "image/png": "[encoded data removed]",
      "text/plain": [
       "<Figure size 432x288 with 1 Axes>"
      ]
     },
     "metadata": {
      "needs_background": "light"
     },
     "output_type": "display_data"
    }
   ],
   "source": [
    "from scipy.stats import norm\n",
    "\n",
    "x = pop_df[pop_df[\"length\"]<420][\"length\"]\n",
    "y = pop_df[pop_df[\"length\"]<420][\"watch_num\"]\n",
    "\n",
    "print (x.describe())\n",
    "plt.scatter(x, y, s=15)\n",
    "\n",
    "plt.show()\n",
    "\n",
    "x_axis = np.arange(0,420,.1)\n",
    "plt.plot(x_axis, norm.pdf(x_axis, x.mean(), x.std()), '-r')\n",
    "plt.show()"
   ]
  },
  {
   "cell_type": "code",
   "execution_count": 397,
   "id": "2cf76458",
   "metadata": {},
   "outputs": [
    {
     "name": "stdout",
     "output_type": "stream",
     "text": [
      "count    140.000000\n",
      "mean     201.521429\n",
      "std       50.529067\n",
      "min       46.000000\n",
      "25%      172.000000\n",
      "50%      205.000000\n",
      "75%      232.250000\n",
      "max      342.000000\n",
      "Name: length, dtype: float64\n"
     ]
    },
    {
     "data": {
      "image/png": "[encoded data removed]",
      "text/plain": [
       "<Figure size 432x288 with 1 Axes>"
      ]
     },
     "metadata": {
      "needs_background": "light"
     },
     "output_type": "display_data"
    },
    {
     "data": {
      "image/png": "[encoded data removed]",
      "text/plain": [
       "<Figure size 432x288 with 1 Axes>"
      ]
     },
     "metadata": {
      "needs_background": "light"
     },
     "output_type": "display_data"
    }
   ],
   "source": [
    "x = pop_df[pop_df[\"length\"]<420]\n",
    "x = x[x[\"year\"]==2021][\"length\"]\n",
    "y = pop_df[pop_df[\"length\"]<420]\n",
    "y = y[y[\"year\"]==2021][\"watch_num\"]\n",
    "\n",
    "\n",
    "print (x.describe())\n",
    "plt.scatter(x, y)\n",
    "\n",
    "plt.show()\n",
    "\n",
    "x_axis = np.arange(0,420,.1)\n",
    "plt.plot(x_axis, norm.pdf(x_axis, x.mean(), x.std()), '-r')\n",
    "plt.show()"
   ]
  },
  {
   "cell_type": "code",
   "execution_count": 515,
   "id": "3e4090ce",
   "metadata": {},
   "outputs": [
    {
     "data": {
      "text/html": [
       "<div>\n",
       "<style scoped>\n",
       "    .dataframe tbody tr th:only-of-type {\n",
       "        vertical-align: middle;\n",
       "    }\n",
       "\n",
       "    .dataframe tbody tr th {\n",
       "        vertical-align: top;\n",
       "    }\n",
       "\n",
       "    .dataframe thead th {\n",
       "        text-align: right;\n",
       "    }\n",
       "</style>\n",
       "<table border=\"1\" class=\"dataframe\">\n",
       "  <thead>\n",
       "    <tr style=\"text-align: right;\">\n",
       "      <th></th>\n",
       "      <th>watch_num</th>\n",
       "      <th>mylist_num</th>\n",
       "      <th>length</th>\n",
       "    </tr>\n",
       "  </thead>\n",
       "  <tbody>\n",
       "    <tr>\n",
       "      <th>watch_num</th>\n",
       "      <td>1.00000</td>\n",
       "      <td>0.91144</td>\n",
       "      <td>0.00460</td>\n",
       "    </tr>\n",
       "    <tr>\n",
       "      <th>mylist_num</th>\n",
       "      <td>0.91144</td>\n",
       "      <td>1.00000</td>\n",
       "      <td>0.00592</td>\n",
       "    </tr>\n",
       "    <tr>\n",
       "      <th>length</th>\n",
       "      <td>0.00460</td>\n",
       "      <td>0.00592</td>\n",
       "      <td>1.00000</td>\n",
       "    </tr>\n",
       "  </tbody>\n",
       "</table>\n",
       "</div>"
      ],
      "text/plain": [
       "            watch_num  mylist_num   length\n",
       "watch_num     1.00000     0.91144  0.00460\n",
       "mylist_num    0.91144     1.00000  0.00592\n",
       "length        0.00460     0.00592  1.00000"
      ]
     },
     "execution_count": 515,
     "metadata": {},
     "output_type": "execute_result"
    }
   ],
   "source": [
    "cormat = filtered_df.corr().abs()\n",
    "round(cormat,5)"
   ]
  },
  {
   "cell_type": "code",
   "execution_count": 516,
   "id": "78abd991",
   "metadata": {},
   "outputs": [
    {
     "data": {
      "image/png": "[encoded data removed]",
      "text/plain": [
       "<Figure size 432x288 with 2 Axes>"
      ]
     },
     "metadata": {
      "needs_background": "light"
     },
     "output_type": "display_data"
    }
   ],
   "source": [
    "sns.heatmap(cormat);"
   ]
  },
  {
   "cell_type": "code",
   "execution_count": 501,
   "id": "ce468ca1",
   "metadata": {},
   "outputs": [
    {
     "data": {
      "text/html": [
       "<div>\n",
       "<style scoped>\n",
       "    .dataframe tbody tr th:only-of-type {\n",
       "        vertical-align: middle;\n",
       "    }\n",
       "\n",
       "    .dataframe tbody tr th {\n",
       "        vertical-align: top;\n",
       "    }\n",
       "\n",
       "    .dataframe thead th {\n",
       "        text-align: right;\n",
       "    }\n",
       "</style>\n",
       "<table border=\"1\" class=\"dataframe\">\n",
       "  <thead>\n",
       "    <tr style=\"text-align: right;\">\n",
       "      <th></th>\n",
       "      <th>watch_num</th>\n",
       "      <th>mylist_num</th>\n",
       "      <th>length</th>\n",
       "      <th>year</th>\n",
       "    </tr>\n",
       "  </thead>\n",
       "  <tbody>\n",
       "    <tr>\n",
       "      <th>watch_num</th>\n",
       "      <td>1.00000</td>\n",
       "      <td>0.88707</td>\n",
       "      <td>0.00507</td>\n",
       "      <td>0.00214</td>\n",
       "    </tr>\n",
       "    <tr>\n",
       "      <th>mylist_num</th>\n",
       "      <td>0.88707</td>\n",
       "      <td>1.00000</td>\n",
       "      <td>0.00323</td>\n",
       "      <td>0.16102</td>\n",
       "    </tr>\n",
       "    <tr>\n",
       "      <th>length</th>\n",
       "      <td>0.00507</td>\n",
       "      <td>0.00323</td>\n",
       "      <td>1.00000</td>\n",
       "      <td>0.05029</td>\n",
       "    </tr>\n",
       "    <tr>\n",
       "      <th>year</th>\n",
       "      <td>0.00214</td>\n",
       "      <td>0.16102</td>\n",
       "      <td>0.05029</td>\n",
       "      <td>1.00000</td>\n",
       "    </tr>\n",
       "  </tbody>\n",
       "</table>\n",
       "</div>"
      ],
      "text/plain": [
       "            watch_num  mylist_num   length     year\n",
       "watch_num     1.00000     0.88707  0.00507  0.00214\n",
       "mylist_num    0.88707     1.00000  0.00323  0.16102\n",
       "length        0.00507     0.00323  1.00000  0.05029\n",
       "year          0.00214     0.16102  0.05029  1.00000"
      ]
     },
     "execution_count": 501,
     "metadata": {},
     "output_type": "execute_result"
    }
   ],
   "source": [
    "cormat = pop_df.corr().abs()\n",
    "round(cormat,5)"
   ]
  },
  {
   "cell_type": "code",
   "execution_count": 502,
   "id": "f5b71093",
   "metadata": {},
   "outputs": [
    {
     "data": {
      "image/png": "[encoded data removed]",
      "text/plain": [
       "<Figure size 432x288 with 2 Axes>"
      ]
     },
     "metadata": {
      "needs_background": "light"
     },
     "output_type": "display_data"
    }
   ],
   "source": [
    "sns.heatmap(cormat);"
   ]
  },
  {
   "cell_type": "code",
   "execution_count": 512,
   "id": "f3c90f37",
   "metadata": {},
   "outputs": [
    {
     "name": "stdout",
     "output_type": "stream",
     "text": [
      "            watch_num  mylist_num   length\n",
      "watch_num     1.00000     0.91258  0.00535\n",
      "mylist_num    0.91258     1.00000  0.00679\n",
      "length        0.00535     0.00679  1.00000\n"
     ]
    },
    {
     "data": {
      "image/png": "[encoded data removed]",
      "text/plain": [
       "<Figure size 432x288 with 2 Axes>"
      ]
     },
     "metadata": {
      "needs_background": "light"
     },
     "output_type": "display_data"
    }
   ],
   "source": [
    "cormat = filtered_df[filtered_df[\"month\"]>\"2019-12\"].corr().abs()\n",
    "#cm = cormat.drop(\"month\")\n",
    "#cm = cm.drop(columns=\"month\")\n",
    "print (round(cormat,5))\n",
    "\n",
    "sns.heatmap(cm);"
   ]
  },
  {
   "cell_type": "code",
   "execution_count": 520,
   "id": "35255dd2",
   "metadata": {},
   "outputs": [
    {
     "name": "stdout",
     "output_type": "stream",
     "text": [
      "            watch_num  mylist_num   length\n",
      "watch_num     1.00000     0.88347  0.03400\n",
      "mylist_num    0.88347     1.00000  0.01025\n",
      "length        0.03400     0.01025  1.00000\n"
     ]
    },
    {
     "data": {
      "image/png": "[encoded data removed]",
      "text/plain": [
       "<Figure size 432x288 with 2 Axes>"
      ]
     },
     "metadata": {
      "needs_background": "light"
     },
     "output_type": "display_data"
    }
   ],
   "source": [
    "cormat = pop_df[pop_df[\"year\"]>2019].corr().abs()\n",
    "cm = cormat.drop(\"year\")\n",
    "cm = cm.drop(columns=\"year\")\n",
    "print (round(cm,5))\n",
    "\n",
    "sns.heatmap(cm);"
   ]
  },
  {
   "cell_type": "code",
   "execution_count": 523,
   "id": "b13b8fa8",
   "metadata": {},
   "outputs": [
    {
     "data": {
      "text/html": [
       "<div>\n",
       "<style scoped>\n",
       "    .dataframe tbody tr th:only-of-type {\n",
       "        vertical-align: middle;\n",
       "    }\n",
       "\n",
       "    .dataframe tbody tr th {\n",
       "        vertical-align: top;\n",
       "    }\n",
       "\n",
       "    .dataframe thead th {\n",
       "        text-align: right;\n",
       "    }\n",
       "</style>\n",
       "<table border=\"1\" class=\"dataframe\">\n",
       "  <thead>\n",
       "    <tr style=\"text-align: right;\">\n",
       "      <th></th>\n",
       "      <th>pop</th>\n",
       "      <th>length</th>\n",
       "    </tr>\n",
       "  </thead>\n",
       "  <tbody>\n",
       "    <tr>\n",
       "      <th>614</th>\n",
       "      <td>False</td>\n",
       "      <td>242</td>\n",
       "    </tr>\n",
       "    <tr>\n",
       "      <th>615</th>\n",
       "      <td>False</td>\n",
       "      <td>199</td>\n",
       "    </tr>\n",
       "    <tr>\n",
       "      <th>616</th>\n",
       "      <td>False</td>\n",
       "      <td>286</td>\n",
       "    </tr>\n",
       "    <tr>\n",
       "      <th>617</th>\n",
       "      <td>False</td>\n",
       "      <td>320</td>\n",
       "    </tr>\n",
       "    <tr>\n",
       "      <th>618</th>\n",
       "      <td>False</td>\n",
       "      <td>270</td>\n",
       "    </tr>\n",
       "  </tbody>\n",
       "</table>\n",
       "</div>"
      ],
      "text/plain": [
       "       pop  length\n",
       "614  False     242\n",
       "615  False     199\n",
       "616  False     286\n",
       "617  False     320\n",
       "618  False     270"
      ]
     },
     "execution_count": 523,
     "metadata": {},
     "output_type": "execute_result"
    }
   ],
   "source": [
    "class_df = df[[\"video_id\", \"watch_num\", \"category\", \"tags\", \"length\", \"month\"]]\n",
    "\n",
    "\n",
    "class_df = class_df[class_df[\"month\"]>\"2020-12\"]\n",
    "class_df[\"pop\"] = np.where(class_df[\"watch_num\"]>100000, True, False)\n",
    "class_df = class_df[[\"pop\", \"length\"]]\n",
    "\n",
    "\n",
    "class_df.head()\n"
   ]
  },
  {
   "cell_type": "code",
   "execution_count": 407,
   "id": "ff974fd1",
   "metadata": {},
   "outputs": [],
   "source": [
    "import arff\n",
    "arff.dump('vocaloid.arff'\n",
    "      , class_df.values\n",
    "      , relation='Vocaloid-videos-views'\n",
    "      , names=class_df.columns)"
   ]
  },
  {
   "cell_type": "code",
   "execution_count": 373,
   "id": "0338a1be",
   "metadata": {},
   "outputs": [
    {
     "data": {
      "text/plain": [
       "671946"
      ]
     },
     "execution_count": 373,
     "metadata": {},
     "output_type": "execute_result"
    }
   ],
   "source": []
  },
  {
   "cell_type": "code",
   "execution_count": null,
   "id": "ac6dcc83",
   "metadata": {},
   "outputs": [],
   "source": []
  }
 ],
 "metadata": {
  "kernelspec": {
   "display_name": "Python 3 (ipykernel)",
   "language": "python",
   "name": "python3"
  },
  "language_info": {
   "codemirror_mode": {
    "name": "ipython",
    "version": 3
   },
   "file_extension": ".py",
   "mimetype": "text/x-python",
   "name": "python",
   "nbconvert_exporter": "python",
   "pygments_lexer": "ipython3",
   "version": "3.8.10"
  }
 },
 "nbformat": 4,
 "nbformat_minor": 5
}
